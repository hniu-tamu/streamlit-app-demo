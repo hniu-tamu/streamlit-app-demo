{
 "cells": [
  {
   "cell_type": "code",
   "execution_count": 1,
   "metadata": {},
   "outputs": [],
   "source": [
    "import numpy as np\n",
    "import pandas as pd\n",
    "import sklearn\n",
    "import time\n",
    "from sklearn.model_selection import train_test_split\n",
    "import matplotlib.pylab as plt\n",
    "import tensorflow as tf\n",
    "from tensorflow.keras import datasets, layers, models\n",
    "import sys\n",
    "import numpy\n",
    "import os\n",
    "from sklearn.metrics import precision_recall_fscore_support\n",
    "from sklearn.metrics import classification_report\n",
    "from sklearn.metrics import ConfusionMatrixDisplay"
   ]
  },
  {
   "cell_type": "code",
   "execution_count": null,
   "metadata": {},
   "outputs": [],
   "source": [
    "for date in [\"8_18\"]: # , \"9_02\", \"9_09\", \"9_20\"\n",
    "  for img_size in [64]:\n",
    "    # load the data\n",
    "    data = np.load(f'twri_rgb_6832_cotton_{img_size}x{img_size}_{date}.npy')\n",
    "    labels = pd.read_csv('labels_rgb.csv')\n",
    "    y_label = labels['class'].values\n",
    "\n",
    "    # remove the filler type\n",
    "    new_data_without_filler = np.zeros((5376, img_size, img_size, 3)) # defult was 32,32,3\n",
    "    new_y_label_without_filler = np.zeros(5376, dtype=int)\n",
    "    i = 0\n",
    "    for idx, val in enumerate(y_label):\n",
    "      if val != 0:\n",
    "        new_data_without_filler[i] = data[idx]\n",
    "        new_y_label_without_filler[i] = y_label[idx]\n",
    "        i+=1\n",
    "    data = new_data_without_filler\n",
    "    y_label = new_y_label_without_filler - 1\n",
    "\n",
    "    # split the data and normalization\n",
    "    train_images, test_images, train_labels, test_labels = train_test_split(data, y_label, test_size=0.3, random_state=42)\n",
    "    train_images, test_images = train_images / 255.0, test_images / 255.0\n",
    "    class_names = ['rainfed', 'fully irrigated', 'percent deficit', 'time delay']\n",
    "\n",
    "    # set up the model and train\n",
    "    model = models.Sequential()\n",
    "    model.add(layers.Conv2D(32, (3, 3), activation='relu', input_shape=(img_size, img_size, 3)))\n",
    "    model.add(layers.MaxPooling2D((2, 2)))\n",
    "    model.add(layers.Conv2D(64, (3, 3), activation='relu'))\n",
    "    model.add(layers.MaxPooling2D((2, 2)))\n",
    "    model.add(layers.Conv2D(64, (3, 3), activation='relu'))\n",
    "    model.add(layers.Flatten())\n",
    "    model.add(layers.Dense(64, activation='relu'))\n",
    "    model.add(layers.Dense(4))\n",
    "    # model.summary()\n",
    "    # compile the model\n",
    "    model.compile(optimizer='adam',\n",
    "                loss=tf.keras.losses.SparseCategoricalCrossentropy(from_logits=True),\n",
    "                metrics=['accuracy'])\n",
    "\n",
    "    history = model.fit(train_images, train_labels, epochs=70, \n",
    "                      validation_data=(test_images, test_labels))"
   ]
  }
 ],
 "metadata": {
  "kernelspec": {
   "display_name": "tf_gpu",
   "language": "python",
   "name": "python3"
  },
  "language_info": {
   "codemirror_mode": {
    "name": "ipython",
    "version": 3
   },
   "file_extension": ".py",
   "mimetype": "text/x-python",
   "name": "python",
   "nbconvert_exporter": "python",
   "pygments_lexer": "ipython3",
   "version": "3.9.15"
  },
  "orig_nbformat": 4
 },
 "nbformat": 4,
 "nbformat_minor": 2
}
